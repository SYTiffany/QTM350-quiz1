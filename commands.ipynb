{
 "cells": [
  {
   "cell_type": "code",
   "execution_count": 1,
   "metadata": {},
   "outputs": [],
   "source": [
    "!touch commands.txt"
   ]
  },
  {
   "cell_type": "code",
   "execution_count": 2,
   "metadata": {},
   "outputs": [
    {
     "name": "stdout",
     "output_type": "stream",
     "text": [
      "Switched to a new branch 'feature-update'\n"
     ]
    }
   ],
   "source": [
    "!git checkout -b feature-update"
   ]
  },
  {
   "cell_type": "code",
   "execution_count": 3,
   "metadata": {},
   "outputs": [],
   "source": [
    "!mkdir reports\n"
   ]
  },
  {
   "cell_type": "code",
   "execution_count": 4,
   "metadata": {},
   "outputs": [],
   "source": [
    "!touch reports/summary.md\n"
   ]
  },
  {
   "cell_type": "code",
   "execution_count": 5,
   "metadata": {},
   "outputs": [],
   "source": [
    "!echo \"This document provides a summary of the project updates.\" > reports/summary.md\n"
   ]
  },
  {
   "cell_type": "code",
   "execution_count": 6,
   "metadata": {},
   "outputs": [],
   "source": [
    "!git add reports\n"
   ]
  },
  {
   "cell_type": "code",
   "execution_count": 7,
   "metadata": {},
   "outputs": [
    {
     "name": "stdout",
     "output_type": "stream",
     "text": [
      "[feature-update f9c7447] Add reports directory\n",
      " 1 file changed, 1 insertion(+)\n",
      " create mode 100644 reports/summary.md\n"
     ]
    }
   ],
   "source": [
    "!git commit -m \"Add reports directory\"\n"
   ]
  },
  {
   "cell_type": "code",
   "execution_count": 8,
   "metadata": {},
   "outputs": [],
   "source": [
    "!touch reports/file{1..3}.txt\n"
   ]
  },
  {
   "cell_type": "code",
   "execution_count": 9,
   "metadata": {},
   "outputs": [],
   "source": [
    "!mv data/raw-data.csv data/input-data.csv\n"
   ]
  },
  {
   "cell_type": "code",
   "execution_count": 10,
   "metadata": {},
   "outputs": [],
   "source": [
    "!mkdir scripts/backup && cp scripts/*.py scripts/backup/\n"
   ]
  },
  {
   "cell_type": "code",
   "execution_count": 11,
   "metadata": {},
   "outputs": [],
   "source": [
    "!rm docs/documentation.md\n"
   ]
  },
  {
   "cell_type": "code",
   "execution_count": 12,
   "metadata": {},
   "outputs": [
    {
     "name": "stdout",
     "output_type": "stream",
     "text": [
      "[feature-update b787349] Update project files\n",
      " 10 files changed, 152 insertions(+), 1 deletion(-)\n",
      " create mode 100644 commands.ipynb\n",
      " rename data/raw-data.csv => commands.txt (100%)\n",
      " create mode 100644 data/input-data.csv\n",
      " delete mode 100644 docs/documentation.md\n",
      " create mode 100644 reports/file1.txt\n",
      " create mode 100644 reports/file2.txt\n",
      " create mode 100644 reports/file3.txt\n",
      " create mode 100644 scripts/backup/01-setup.py\n",
      " create mode 100644 scripts/backup/02-data-cleaning.py\n",
      " create mode 100644 scripts/backup/03-data-modelling.py\n"
     ]
    }
   ],
   "source": [
    "!git add .\n",
    "!git commit -m \"Update project files\""
   ]
  },
  {
   "cell_type": "code",
   "execution_count": 13,
   "metadata": {},
   "outputs": [],
   "source": [
    "!touch .gitignore"
   ]
  },
  {
   "cell_type": "code",
   "execution_count": 14,
   "metadata": {},
   "outputs": [],
   "source": [
    "!echo -e \"temp/\\ndataset0?.csv\" > .gitignore"
   ]
  },
  {
   "cell_type": "code",
   "execution_count": 15,
   "metadata": {},
   "outputs": [
    {
     "name": "stdout",
     "output_type": "stream",
     "text": [
      "temp/\n",
      "dataset0?.csv\n"
     ]
    }
   ],
   "source": [
    "!cat .gitignore"
   ]
  },
  {
   "cell_type": "code",
   "execution_count": 16,
   "metadata": {},
   "outputs": [
    {
     "name": "stdout",
     "output_type": "stream",
     "text": [
      "[feature-update d1245f5] Add .gitignore file\n",
      " 1 file changed, 2 insertions(+)\n",
      " create mode 100644 .gitignore\n"
     ]
    }
   ],
   "source": [
    "!git add .gitignore && git commit -m \"Add .gitignore file\""
   ]
  },
  {
   "cell_type": "code",
   "execution_count": 17,
   "metadata": {},
   "outputs": [
    {
     "name": "stdout",
     "output_type": "stream",
     "text": [
      "error: Your local changes to the following files would be overwritten by checkout:\n",
      "\tcommands.ipynb\n",
      "Please commit your changes or stash them before you switch branches.\n",
      "Aborting\n",
      "Already up to date.\n"
     ]
    }
   ],
   "source": [
    "!git checkout main\n",
    "!git merge feature-update"
   ]
  },
  {
   "cell_type": "code",
   "execution_count": 18,
   "metadata": {},
   "outputs": [],
   "source": [
    "!echo '# List of Commands Used' > commands.txt\n",
    "!echo 'git clone <your-forked-repo-url>' >> commands.txt\n",
    "!echo 'cd <your-repository-name>' >> commands.txt\n",
    "!echo 'touch commands.txt' >> commands.txt\n",
    "!echo 'git checkout -b feature-update' >> commands.txt\n",
    "!echo 'mkdir reports' >> commands.txt\n",
    "!echo 'touch reports/summary.md' >> commands.txt\n",
    "!echo 'echo \"This document provides a summary of the project updates.\" > reports/summary.md' >> commands.txt\n",
    "!echo 'git add reports' >> commands.txt\n",
    "!echo 'git commit -m \"Add reports directory\"' >> commands.txt\n",
    "!echo 'touch reports/file{1..3}.txt' >> commands.txt\n",
    "!echo 'mv data/raw-data.csv data/input-data.csv' >> commands.txt\n",
    "!echo 'mkdir scripts/backup && cp scripts/*.py scripts/backup/' >> commands.txt\n",
    "!echo 'rm docs/documentation.md' >> commands.txt\n",
    "!echo 'git add .' >> commands.txt\n",
    "!echo 'git commit -m \"Update project files\"' >> commands.txt\n",
    "!echo 'touch .gitignore' >> commands.txt\n",
    "!echo 'echo -e \"temp/\\ndataset0?.csv\" > .gitignore' >> commands.txt\n",
    "!echo 'cat .gitignore' >> commands.txt\n",
    "!echo 'git add .gitignore && git commit -m \"Add .gitignore file\"' >> commands.txt\n",
    "!echo 'git checkout main' >> commands.txt\n",
    "!echo 'git merge feature-update' >> commands.txt\n"
   ]
  }
 ],
 "metadata": {
  "kernelspec": {
   "display_name": "base",
   "language": "python",
   "name": "python3"
  },
  "language_info": {
   "codemirror_mode": {
    "name": "ipython",
    "version": 3
   },
   "file_extension": ".py",
   "mimetype": "text/x-python",
   "name": "python",
   "nbconvert_exporter": "python",
   "pygments_lexer": "ipython3",
   "version": "3.12.4"
  }
 },
 "nbformat": 4,
 "nbformat_minor": 2
}
