{
 "cells": [
  {
   "cell_type": "code",
   "execution_count": 1,
   "metadata": {},
   "outputs": [
    {
     "name": "stderr",
     "output_type": "stream",
     "text": [
      "Switched to a new branch 'feature-update'\n"
     ]
    },
    {
     "name": "stdout",
     "output_type": "stream",
     "text": [
      "-------- step 5 done --------\n",
      "-------- step 6 done --------\n",
      "-------- step 7 done --------\n",
      "-------- step 8 done --------\n",
      "-------- step 9 done --------\n",
      "[feature-update bca21f6] Add reports directory\n",
      " 1 file changed, 1 insertion(+)\n",
      " create mode 100644 reports/summary.md\n",
      "-------- step 10 done --------\n",
      "-------- step 11 done --------\n",
      "-------- step 12 done --------\n",
      "-------- step 13 done --------\n",
      "-------- step 14 done --------\n",
      "[feature-update 10101db] Update project files\n",
      " 9 files changed, 130 insertions(+), 1 deletion(-)\n",
      " create mode 100755 command.ipynb\n",
      " rename data/{raw-data.csv => input-data.csv} (100%)\n",
      " delete mode 100644 docs/documentation.md\n",
      " create mode 100644 reports/file1.txt\n",
      " create mode 100644 reports/file2.txt\n",
      " create mode 100644 reports/file3.txt\n",
      " create mode 100644 scripts/backup/01-setup.py\n",
      " create mode 100644 scripts/backup/02-data-cleaning.py\n",
      " create mode 100644 scripts/backup/03-data-modelling.py\n",
      "-------- step 15 done --------\n",
      "-------- step 16 done --------\n",
      "-------- step 17 done --------\n",
      "temp/\n",
      "dataset0?.csv\n",
      "-------- step 18 done --------\n",
      "[feature-update a416f70] Add .gitignore file\n",
      " 1 file changed, 2 insertions(+)\n",
      " create mode 100644 .gitignore\n",
      "-------- step 19 done --------\n"
     ]
    },
    {
     "name": "stderr",
     "output_type": "stream",
     "text": [
      "Switched to branch 'main'\n"
     ]
    },
    {
     "name": "stdout",
     "output_type": "stream",
     "text": [
      "Your branch is up to date with 'origin/main'.\n",
      "Updating 4258465..a416f70\n",
      "Fast-forward\n",
      " .gitignore                            |   2 +\n",
      " command.ipynb                         | 130 ++++++++++++++++++++++++++++++++++\n",
      " data/{raw-data.csv => input-data.csv} |   0\n",
      " docs/documentation.md                 |   1 -\n",
      " reports/file1.txt                     |   0\n",
      " reports/file2.txt                     |   0\n",
      " reports/file3.txt                     |   0\n",
      " reports/summary.md                    |   1 +\n",
      " scripts/backup/01-setup.py            |   0\n",
      " scripts/backup/02-data-cleaning.py    |   0\n",
      " scripts/backup/03-data-modelling.py   |   0\n",
      " 11 files changed, 133 insertions(+), 1 deletion(-)\n",
      " create mode 100644 .gitignore\n",
      " create mode 100755 command.ipynb\n",
      " rename data/{raw-data.csv => input-data.csv} (100%)\n",
      " delete mode 100644 docs/documentation.md\n",
      " create mode 100644 reports/file1.txt\n",
      " create mode 100644 reports/file2.txt\n",
      " create mode 100644 reports/file3.txt\n",
      " create mode 100644 reports/summary.md\n",
      " create mode 100644 scripts/backup/01-setup.py\n",
      " create mode 100644 scripts/backup/02-data-cleaning.py\n",
      " create mode 100644 scripts/backup/03-data-modelling.py\n",
      "-------- step 20 done --------\n"
     ]
    },
    {
     "name": "stderr",
     "output_type": "stream",
     "text": [
      "fatal: pathspec 'commands.ipynb' did not match any files\n"
     ]
    },
    {
     "name": "stdout",
     "output_type": "stream",
     "text": [
      "On branch main\n",
      "Your branch is ahead of 'origin/main' by 3 commits.\n",
      "  (use \"git push\" to publish your local commits)\n",
      "\n",
      "nothing to commit, working tree clean\n"
     ]
    },
    {
     "name": "stderr",
     "output_type": "stream",
     "text": [
      "To https://github.com/xialuoke4062/qtm350-quiz01.git\n",
      "   4258465..a416f70  main -> main\n"
     ]
    },
    {
     "name": "stdout",
     "output_type": "stream",
     "text": [
      "-------- step 21 done --------\n"
     ]
    }
   ],
   "source": [
    "%%bash\n",
    "# Task\n",
    "# Assistance with Copilot\n",
    "\n",
    "# 1. Fork this repository to your GitHub account.\n",
    "# Did this one Github, I will not run this command again.\n",
    "\n",
    "# 2. Clone your forked repository to your local machine.\n",
    "# git clone https://github.com/xialuoke4062/qtm350-quiz01.git\n",
    "# I did this locally already. I will not run this command again.\n",
    "\n",
    "# 3. Change directory into the cloned repository.\n",
    "# cd qtm350-quiz01\n",
    "# the jupyter-notebook is already in the root directory, so I will not run this command again.\n",
    "\n",
    "# 4. Create a file named commands.ipynb to document all commands used.\n",
    "# touch commands.ipynb\n",
    "# The jupyter-notebook is the file containing this line of code, so I will not run this command again.\n",
    "\n",
    "# 5. Create and switch to a new branch named feature-update.\n",
    "git checkout -b feature-update\n",
    "echo '-------- step 5 done --------'\n",
    "\n",
    "# 6. Create a new directory called reports.\n",
    "mkdir reports\n",
    "echo '-------- step 6 done --------'\n",
    "\n",
    "# 7. Inside the reports directory, create an empty file named summary.md.\n",
    "touch reports/summary.md\n",
    "echo '-------- step 7 done --------'\n",
    "\n",
    "# 8. Use a command to add the following line to summary.md: \n",
    "# This document provides a summary of the project updates.\n",
    "echo \"This document provides a summary of the project updates.\" > reports/summary.md\n",
    "echo '-------- step 8 done --------'\n",
    "\n",
    "# 9. Add the newly created reports directory.\n",
    "git add reports\n",
    "echo '-------- step 9 done --------'\n",
    "\n",
    "# 10. Commit the changes with the message \"Add reports directory\".\n",
    "git commit -m \"Add reports directory\"\n",
    "echo '-------- step 10 done --------'\n",
    "\n",
    "# 11. Create three empty text files named file1.txt, file2.txt, and file3.txt \n",
    "# in the reports folder using a single command with brace expansion.\n",
    "touch reports/file{1..3}.txt\n",
    "echo '-------- step 11 done --------'\n",
    "\n",
    "# 12. Rename data/raw-data.csv to data/input-data.csv.\n",
    "mv data/raw-data.csv data/input-data.csv\n",
    "echo '-------- step 12 done --------'\n",
    "\n",
    "# 13. Create a new directory named backup inside the scripts directory, then copy all .py files from the scripts directory\n",
    "# to the newly created backup directory. Use wildcards to copy the files and chain both commands in a single line of code.\n",
    "mkdir -p scripts/backup && cp scripts/*.py scripts/backup/\n",
    "echo '-------- step 13 done --------'\n",
    "\n",
    "# 14. Delete the docs/documentation.md file.\n",
    "rm docs/documentation.md\n",
    "echo '-------- step 14 done --------'\n",
    "\n",
    "# 15. Stage and commit all changes so far. Add the message \"Update project files\".\n",
    "git add .\n",
    "git commit -m \"Update project files\"\n",
    "echo '-------- step 15 done --------'\n",
    "\n",
    "# 16. Create a new file named .gitignore in the root of the repository.\n",
    "touch .gitignore\n",
    "echo '-------- step 16 done --------'\n",
    "\n",
    "# 17. Add the following lines to .gitignore using the command line:\n",
    "# temp/\n",
    "# dataset0?.csv\n",
    "echo \"temp/\" >> .gitignore\n",
    "echo \"dataset0?.csv\" >> .gitignore\n",
    "echo '-------- step 17 done --------'\n",
    "\n",
    "# 18. Read the contents of .gitignore to verify its contents.\n",
    "cat .gitignore\n",
    "echo '-------- step 18 done --------'\n",
    "\n",
    "# 19. Stage and commit the .gitignore file with the message \"Add .gitignore file\". \n",
    "# Use only one line to do both.\n",
    "git add .gitignore && git commit -m \"Add .gitignore file\"\n",
    "echo '-------- step 19 done --------'\n",
    "\n",
    "# 20. Switch back to the main branch and merge the feature-update branch into main.\n",
    "git checkout main\n",
    "git merge feature-update\n",
    "echo '-------- step 20 done --------'\n",
    "\n",
    "### There was a typo here: command instead of commands - fixed below\n",
    "# # 21. Update the commands.txt file with all commands used so far, then stage, commit, and push changes.\n",
    "# git add commands.ipynb\n",
    "# git commit -m \"Update commands.ipynb with all commands used\"\n",
    "# git push origin main\n",
    "# echo '-------- step 21 done --------'"
   ]
  },
  {
   "cell_type": "code",
   "execution_count": 1,
   "metadata": {},
   "outputs": [
    {
     "name": "stdout",
     "output_type": "stream",
     "text": [
      "[main e4539b5] Update commands.ipynb with all commands used\n",
      " 1 file changed, 258 insertions(+)\n",
      " create mode 100755 commands.ipynb\n"
     ]
    },
    {
     "name": "stderr",
     "output_type": "stream",
     "text": [
      "To https://github.com/xialuoke4062/qtm350-quiz01.git\n",
      "   a416f70..e4539b5  main -> main\n"
     ]
    },
    {
     "name": "stdout",
     "output_type": "stream",
     "text": [
      "-------- Fixed step 21 done --------\n"
     ]
    }
   ],
   "source": [
    "%%bash\n",
    "\n",
    "# 21. Update the commands.txt file with all commands used so far, then stage, commit, and push changes.\n",
    "git add commands.ipynb\n",
    "git commit -m \"Update commands.ipynb with all commands used\"\n",
    "git push origin main\n",
    "echo '-------- Fixed step 21 done --------'"
   ]
  },
  {
   "cell_type": "markdown",
   "metadata": {},
   "source": [
    "# Bonus 1"
   ]
  },
  {
   "cell_type": "markdown",
   "metadata": {},
   "source": [
    "## Send a pull request with your changes to the original repository (this one). Document each step of the process.\n",
    "\n",
    "### Documentation: Click on \"Create a pull request\" and fill out the title and description."
   ]
  },
  {
   "cell_type": "markdown",
   "metadata": {},
   "source": [
    "# Bonus 2"
   ]
  },
  {
   "cell_type": "code",
   "execution_count": 2,
   "metadata": {},
   "outputs": [
    {
     "name": "stderr",
     "output_type": "stream",
     "text": [
      "error: cannot rebase: You have unstaged changes.\n",
      "error: Please commit or stash them.\n"
     ]
    },
    {
     "ename": "CalledProcessError",
     "evalue": "Command 'b'# Perform an interactive rebase to squash the last two commits into a single commit.\\ngit rebase -i HEAD~2\\n'' returned non-zero exit status 1.",
     "output_type": "error",
     "traceback": [
      "\u001b[0;31m---------------------------------------------------------------------------\u001b[0m",
      "\u001b[0;31mCalledProcessError\u001b[0m                        Traceback (most recent call last)",
      "Cell \u001b[0;32mIn[2], line 1\u001b[0m\n\u001b[0;32m----> 1\u001b[0m \u001b[43mget_ipython\u001b[49m\u001b[43m(\u001b[49m\u001b[43m)\u001b[49m\u001b[38;5;241;43m.\u001b[39;49m\u001b[43mrun_cell_magic\u001b[49m\u001b[43m(\u001b[49m\u001b[38;5;124;43m'\u001b[39;49m\u001b[38;5;124;43mbash\u001b[39;49m\u001b[38;5;124;43m'\u001b[39;49m\u001b[43m,\u001b[49m\u001b[43m \u001b[49m\u001b[38;5;124;43m'\u001b[39;49m\u001b[38;5;124;43m'\u001b[39;49m\u001b[43m,\u001b[49m\u001b[43m \u001b[49m\u001b[38;5;124;43m'\u001b[39;49m\u001b[38;5;124;43m# Perform an interactive rebase to squash the last two commits into a single commit.\u001b[39;49m\u001b[38;5;130;43;01m\\n\u001b[39;49;00m\u001b[38;5;124;43mgit rebase -i HEAD~2\u001b[39;49m\u001b[38;5;130;43;01m\\n\u001b[39;49;00m\u001b[38;5;124;43m'\u001b[39;49m\u001b[43m)\u001b[49m\n",
      "File \u001b[0;32m~/Library/Python/3.9/lib/python/site-packages/IPython/core/interactiveshell.py:2517\u001b[0m, in \u001b[0;36mInteractiveShell.run_cell_magic\u001b[0;34m(self, magic_name, line, cell)\u001b[0m\n\u001b[1;32m   2515\u001b[0m \u001b[38;5;28;01mwith\u001b[39;00m \u001b[38;5;28mself\u001b[39m\u001b[38;5;241m.\u001b[39mbuiltin_trap:\n\u001b[1;32m   2516\u001b[0m     args \u001b[38;5;241m=\u001b[39m (magic_arg_s, cell)\n\u001b[0;32m-> 2517\u001b[0m     result \u001b[38;5;241m=\u001b[39m \u001b[43mfn\u001b[49m\u001b[43m(\u001b[49m\u001b[38;5;241;43m*\u001b[39;49m\u001b[43margs\u001b[49m\u001b[43m,\u001b[49m\u001b[43m \u001b[49m\u001b[38;5;241;43m*\u001b[39;49m\u001b[38;5;241;43m*\u001b[39;49m\u001b[43mkwargs\u001b[49m\u001b[43m)\u001b[49m\n\u001b[1;32m   2519\u001b[0m \u001b[38;5;66;03m# The code below prevents the output from being displayed\u001b[39;00m\n\u001b[1;32m   2520\u001b[0m \u001b[38;5;66;03m# when using magics with decorator @output_can_be_silenced\u001b[39;00m\n\u001b[1;32m   2521\u001b[0m \u001b[38;5;66;03m# when the last Python token in the expression is a ';'.\u001b[39;00m\n\u001b[1;32m   2522\u001b[0m \u001b[38;5;28;01mif\u001b[39;00m \u001b[38;5;28mgetattr\u001b[39m(fn, magic\u001b[38;5;241m.\u001b[39mMAGIC_OUTPUT_CAN_BE_SILENCED, \u001b[38;5;28;01mFalse\u001b[39;00m):\n",
      "File \u001b[0;32m~/Library/Python/3.9/lib/python/site-packages/IPython/core/magics/script.py:154\u001b[0m, in \u001b[0;36mScriptMagics._make_script_magic.<locals>.named_script_magic\u001b[0;34m(line, cell)\u001b[0m\n\u001b[1;32m    152\u001b[0m \u001b[38;5;28;01melse\u001b[39;00m:\n\u001b[1;32m    153\u001b[0m     line \u001b[38;5;241m=\u001b[39m script\n\u001b[0;32m--> 154\u001b[0m \u001b[38;5;28;01mreturn\u001b[39;00m \u001b[38;5;28;43mself\u001b[39;49m\u001b[38;5;241;43m.\u001b[39;49m\u001b[43mshebang\u001b[49m\u001b[43m(\u001b[49m\u001b[43mline\u001b[49m\u001b[43m,\u001b[49m\u001b[43m \u001b[49m\u001b[43mcell\u001b[49m\u001b[43m)\u001b[49m\n",
      "File \u001b[0;32m~/Library/Python/3.9/lib/python/site-packages/IPython/core/magics/script.py:314\u001b[0m, in \u001b[0;36mScriptMagics.shebang\u001b[0;34m(self, line, cell)\u001b[0m\n\u001b[1;32m    309\u001b[0m \u001b[38;5;28;01mif\u001b[39;00m args\u001b[38;5;241m.\u001b[39mraise_error \u001b[38;5;129;01mand\u001b[39;00m p\u001b[38;5;241m.\u001b[39mreturncode \u001b[38;5;241m!=\u001b[39m \u001b[38;5;241m0\u001b[39m:\n\u001b[1;32m    310\u001b[0m     \u001b[38;5;66;03m# If we get here and p.returncode is still None, we must have\u001b[39;00m\n\u001b[1;32m    311\u001b[0m     \u001b[38;5;66;03m# killed it but not yet seen its return code. We don't wait for it,\u001b[39;00m\n\u001b[1;32m    312\u001b[0m     \u001b[38;5;66;03m# in case it's stuck in uninterruptible sleep. -9 = SIGKILL\u001b[39;00m\n\u001b[1;32m    313\u001b[0m     rc \u001b[38;5;241m=\u001b[39m p\u001b[38;5;241m.\u001b[39mreturncode \u001b[38;5;129;01mor\u001b[39;00m \u001b[38;5;241m-\u001b[39m\u001b[38;5;241m9\u001b[39m\n\u001b[0;32m--> 314\u001b[0m     \u001b[38;5;28;01mraise\u001b[39;00m CalledProcessError(rc, cell)\n",
      "\u001b[0;31mCalledProcessError\u001b[0m: Command 'b'# Perform an interactive rebase to squash the last two commits into a single commit.\\ngit rebase -i HEAD~2\\n'' returned non-zero exit status 1."
     ]
    }
   ],
   "source": [
    "%%bash\n",
    "# Perform an interactive rebase to squash the last two commits into a single commit.\n",
    "git rebase -i HEAD~2"
   ]
  },
  {
   "cell_type": "code",
   "execution_count": null,
   "metadata": {},
   "outputs": [],
   "source": []
  }
 ],
 "metadata": {
  "kernelspec": {
   "display_name": "Python 3",
   "language": "python",
   "name": "python3"
  },
  "language_info": {
   "codemirror_mode": {
    "name": "ipython",
    "version": 3
   },
   "file_extension": ".py",
   "mimetype": "text/x-python",
   "name": "python",
   "nbconvert_exporter": "python",
   "pygments_lexer": "ipython3",
   "version": "3.9.6"
  }
 },
 "nbformat": 4,
 "nbformat_minor": 2
}
