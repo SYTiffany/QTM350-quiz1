{
 "cells": [
  {
   "cell_type": "code",
   "execution_count": null,
   "metadata": {},
   "outputs": [],
   "source": [
    "%%bash\n",
    "#already run in command line, rest of commands run in this notebook\n",
    "# cd ~/github/qtm350-quiz01\n",
    "# touch commands.ipynb\n"
   ]
  },
  {
   "cell_type": "code",
   "execution_count": 3,
   "metadata": {},
   "outputs": [
    {
     "name": "stderr",
     "output_type": "stream",
     "text": [
      "Switched to branch 'feature-update'\n"
     ]
    }
   ],
   "source": [
    "%%bash\n",
    "git branch feature-update\n",
    "git checkout feature-update"
   ]
  },
  {
   "cell_type": "code",
   "execution_count": 4,
   "metadata": {},
   "outputs": [],
   "source": [
    "%%bash\n",
    "mkdir reports\n",
    "cd ./reports\n"
   ]
  },
  {
   "cell_type": "code",
   "execution_count": 5,
   "metadata": {},
   "outputs": [],
   "source": [
    "%%bash\n",
    "touch summary.md"
   ]
  },
  {
   "cell_type": "code",
   "execution_count": 6,
   "metadata": {},
   "outputs": [],
   "source": [
    "%%bash\n",
    "echo \"This document provides a summary of the project updates.\" >> summary.md"
   ]
  },
  {
   "cell_type": "code",
   "execution_count": 7,
   "metadata": {},
   "outputs": [],
   "source": [
    "%%bash\n",
    "git add ."
   ]
  },
  {
   "cell_type": "code",
   "execution_count": 11,
   "metadata": {},
   "outputs": [
    {
     "name": "stdout",
     "output_type": "stream",
     "text": [
      "[feature-update 222337a] Add reports directory\n",
      " 2 files changed, 19 insertions(+)\n",
      " create mode 100644 commands.ipynb\n",
      " create mode 100644 summary.md\n"
     ]
    }
   ],
   "source": [
    "%%bash\n",
    "git commit -m \"Add reports directory\""
   ]
  },
  {
   "cell_type": "code",
   "execution_count": 14,
   "metadata": {},
   "outputs": [],
   "source": [
    "%%bash\n",
    "touch ./reports/file{1..3}.txt"
   ]
  },
  {
   "cell_type": "code",
   "execution_count": 21,
   "metadata": {},
   "outputs": [],
   "source": [
    "%%bash\n",
    "#cd ..\n",
    "mv data/raw-data.csv data/input-data.csv"
   ]
  },
  {
   "cell_type": "code",
   "execution_count": 22,
   "metadata": {},
   "outputs": [],
   "source": [
    "%%bash\n",
    "mkdir scripts/backup && cp scripts/*.py scripts/backup/"
   ]
  },
  {
   "cell_type": "code",
   "execution_count": 23,
   "metadata": {},
   "outputs": [],
   "source": [
    "%%bash\n",
    "rm docs/documentation.md"
   ]
  },
  {
   "cell_type": "code",
   "execution_count": 25,
   "metadata": {},
   "outputs": [
    {
     "name": "stdout",
     "output_type": "stream",
     "text": [
      "[feature-update 50ebcb7] Update project files\n",
      " 11 files changed, 1 deletion(-)\n",
      " create mode 100644 .DS_Store\n",
      " create mode 100644 data/.DS_Store\n",
      " rename data/{raw-data.csv => input-data.csv} (100%)\n",
      " delete mode 100644 docs/documentation.md\n",
      " create mode 100644 reports/.DS_Store\n",
      " create mode 100644 reports/file1.txt\n",
      " create mode 100644 reports/file2.txt\n",
      " create mode 100644 reports/file3.txt\n",
      " create mode 100644 scripts/backup/01-setup.py\n",
      " create mode 100644 scripts/backup/02-data-cleaning.py\n",
      " create mode 100644 scripts/backup/03-data-modelling.py\n"
     ]
    }
   ],
   "source": [
    "%%bash\n",
    "git add .\n",
    "git commit -m \"Update project files\""
   ]
  },
  {
   "cell_type": "code",
   "execution_count": 26,
   "metadata": {},
   "outputs": [],
   "source": [
    "%%bash\n",
    "touch .gitignore"
   ]
  },
  {
   "cell_type": "code",
   "execution_count": 37,
   "metadata": {},
   "outputs": [],
   "source": [
    "%%bash\n",
    "echo -e \"temp/\\ndataset0?.csv\" >> .gitignore"
   ]
  },
  {
   "cell_type": "code",
   "execution_count": 38,
   "metadata": {},
   "outputs": [
    {
     "name": "stdout",
     "output_type": "stream",
     "text": [
      "temp/\n",
      "dataset0?.csv\n"
     ]
    }
   ],
   "source": [
    "%%bash\n",
    "cat .gitignore"
   ]
  },
  {
   "cell_type": "code",
   "execution_count": 39,
   "metadata": {},
   "outputs": [
    {
     "name": "stdout",
     "output_type": "stream",
     "text": [
      "[feature-update 547c9b3] Add .gitignore file\n",
      " 4 files changed, 4 insertions(+)\n",
      " create mode 100644 .gitignore\n",
      " create mode 100644 gitignore\n",
      " create mode 100644 scripts/.DS_Store\n"
     ]
    }
   ],
   "source": [
    "%%bash\n",
    "git add . && git commit -m \"Add .gitignore file\""
   ]
  },
  {
   "cell_type": "code",
   "execution_count": 40,
   "metadata": {},
   "outputs": [
    {
     "name": "stderr",
     "output_type": "stream",
     "text": [
      "Switched to branch 'main'\n"
     ]
    },
    {
     "name": "stdout",
     "output_type": "stream",
     "text": [
      "Your branch is up to date with 'origin/main'.\n",
      "Updating 4258465..547c9b3\n",
      "Fast-forward\n",
      " .DS_Store                             | Bin 0 -> 8196 bytes\n",
      " .gitignore                            |   2 ++\n",
      " commands.ipynb                        |  18 ++++++++++++++++++\n",
      " data/.DS_Store                        | Bin 0 -> 6148 bytes\n",
      " data/{raw-data.csv => input-data.csv} |   0\n",
      " docs/documentation.md                 |   1 -\n",
      " gitignore                             |   2 ++\n",
      " reports/.DS_Store                     | Bin 0 -> 6148 bytes\n",
      " reports/file1.txt                     |   0\n",
      " reports/file2.txt                     |   0\n",
      " reports/file3.txt                     |   0\n",
      " scripts/.DS_Store                     | Bin 0 -> 6148 bytes\n",
      " scripts/backup/01-setup.py            |   0\n",
      " scripts/backup/02-data-cleaning.py    |   0\n",
      " scripts/backup/03-data-modelling.py   |   0\n",
      " summary.md                            |   1 +\n",
      " 16 files changed, 23 insertions(+), 1 deletion(-)\n",
      " create mode 100644 .DS_Store\n",
      " create mode 100644 .gitignore\n",
      " create mode 100644 commands.ipynb\n",
      " create mode 100644 data/.DS_Store\n",
      " rename data/{raw-data.csv => input-data.csv} (100%)\n",
      " delete mode 100644 docs/documentation.md\n",
      " create mode 100644 gitignore\n",
      " create mode 100644 reports/.DS_Store\n",
      " create mode 100644 reports/file1.txt\n",
      " create mode 100644 reports/file2.txt\n",
      " create mode 100644 reports/file3.txt\n",
      " create mode 100644 scripts/.DS_Store\n",
      " create mode 100644 scripts/backup/01-setup.py\n",
      " create mode 100644 scripts/backup/02-data-cleaning.py\n",
      " create mode 100644 scripts/backup/03-data-modelling.py\n",
      " create mode 100644 summary.md\n"
     ]
    }
   ],
   "source": [
    "%%bash\n",
    "git checkout main\n",
    "git merge feature-update"
   ]
  },
  {
   "cell_type": "code",
   "execution_count": 45,
   "metadata": {},
   "outputs": [
    {
     "name": "stderr",
     "output_type": "stream",
     "text": [
      "To https://github.com/romeouni/qtm350-quiz01\n",
      "   4258465..547c9b3  main -> main\n"
     ]
    }
   ],
   "source": [
    "%%bash\n",
    "git push"
   ]
  }
 ],
 "metadata": {
  "kernelspec": {
   "display_name": "base",
   "language": "python",
   "name": "python3"
  },
  "language_info": {
   "codemirror_mode": {
    "name": "ipython",
    "version": 3
   },
   "file_extension": ".py",
   "mimetype": "text/x-python",
   "name": "python",
   "nbconvert_exporter": "python",
   "pygments_lexer": "ipython3",
   "version": "3.10.9"
  }
 },
 "nbformat": 4,
 "nbformat_minor": 2
}
